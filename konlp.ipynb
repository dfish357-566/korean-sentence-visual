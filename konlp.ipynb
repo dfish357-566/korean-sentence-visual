{
  "nbformat": 4,
  "nbformat_minor": 0,
  "metadata": {
    "colab": {
      "name": "konlp",
      "provenance": [],
      "collapsed_sections": [],
      "authorship_tag": "ABX9TyOI9SxKJtrT29Sc0M/p3+Ko",
      "include_colab_link": true
    },
    "kernelspec": {
      "name": "python3",
      "display_name": "Python 3"
    }
  },
  "cells": [
    {
      "cell_type": "markdown",
      "metadata": {
        "id": "view-in-github",
        "colab_type": "text"
      },
      "source": [
        "<a href=\"https://colab.research.google.com/github/dfish357-566/korean-sentence-visual/blob/main/konlp.ipynb\" target=\"_parent\"><img src=\"https://colab.research.google.com/assets/colab-badge.svg\" alt=\"Open In Colab\"/></a>"
      ]
    },
    {
      "cell_type": "code",
      "metadata": {
        "id": "YPTCjwpwnX2U",
        "colab": {
          "base_uri": "https://localhost:8080/"
        },
        "outputId": "388b2286-34ac-46ea-9114-9d55ca7e2201"
      },
      "source": [
        "!pip install konlpy\n",
        "\n",
        "!pip install svgling"
      ],
      "execution_count": null,
      "outputs": [
        {
          "output_type": "stream",
          "text": [
            "Collecting konlpy\n",
            "\u001b[?25l  Downloading https://files.pythonhosted.org/packages/85/0e/f385566fec837c0b83f216b2da65db9997b35dd675e107752005b7d392b1/konlpy-0.5.2-py2.py3-none-any.whl (19.4MB)\n",
            "\u001b[K     |████████████████████████████████| 19.4MB 1.3MB/s \n",
            "\u001b[?25hCollecting colorama\n",
            "  Downloading https://files.pythonhosted.org/packages/44/98/5b86278fbbf250d239ae0ecb724f8572af1c91f4a11edf4d36a206189440/colorama-0.4.4-py2.py3-none-any.whl\n",
            "Collecting tweepy>=3.7.0\n",
            "  Downloading https://files.pythonhosted.org/packages/67/c3/6bed87f3b1e5ed2f34bd58bf7978e308c86e255193916be76e5a5ce5dfca/tweepy-3.10.0-py2.py3-none-any.whl\n",
            "Requirement already satisfied: numpy>=1.6 in /usr/local/lib/python3.6/dist-packages (from konlpy) (1.19.4)\n",
            "Collecting JPype1>=0.7.0\n",
            "\u001b[?25l  Downloading https://files.pythonhosted.org/packages/b7/21/9e2c0dbf9df856e6392a1aec1d18006c60b175aa4e31d351e8278a8a63c0/JPype1-1.2.0-cp36-cp36m-manylinux2010_x86_64.whl (453kB)\n",
            "\u001b[K     |████████████████████████████████| 460kB 46.7MB/s \n",
            "\u001b[?25hRequirement already satisfied: lxml>=4.1.0 in /usr/local/lib/python3.6/dist-packages (from konlpy) (4.2.6)\n",
            "Collecting beautifulsoup4==4.6.0\n",
            "\u001b[?25l  Downloading https://files.pythonhosted.org/packages/9e/d4/10f46e5cfac773e22707237bfcd51bbffeaf0a576b0a847ec7ab15bd7ace/beautifulsoup4-4.6.0-py3-none-any.whl (86kB)\n",
            "\u001b[K     |████████████████████████████████| 92kB 8.1MB/s \n",
            "\u001b[?25hRequirement already satisfied: requests-oauthlib>=0.7.0 in /usr/local/lib/python3.6/dist-packages (from tweepy>=3.7.0->konlpy) (1.3.0)\n",
            "Requirement already satisfied: requests[socks]>=2.11.1 in /usr/local/lib/python3.6/dist-packages (from tweepy>=3.7.0->konlpy) (2.23.0)\n",
            "Requirement already satisfied: six>=1.10.0 in /usr/local/lib/python3.6/dist-packages (from tweepy>=3.7.0->konlpy) (1.15.0)\n",
            "Requirement already satisfied: typing-extensions; python_version < \"3.8\" in /usr/local/lib/python3.6/dist-packages (from JPype1>=0.7.0->konlpy) (3.7.4.3)\n",
            "Requirement already satisfied: oauthlib>=3.0.0 in /usr/local/lib/python3.6/dist-packages (from requests-oauthlib>=0.7.0->tweepy>=3.7.0->konlpy) (3.1.0)\n",
            "Requirement already satisfied: idna<3,>=2.5 in /usr/local/lib/python3.6/dist-packages (from requests[socks]>=2.11.1->tweepy>=3.7.0->konlpy) (2.10)\n",
            "Requirement already satisfied: urllib3!=1.25.0,!=1.25.1,<1.26,>=1.21.1 in /usr/local/lib/python3.6/dist-packages (from requests[socks]>=2.11.1->tweepy>=3.7.0->konlpy) (1.24.3)\n",
            "Requirement already satisfied: chardet<4,>=3.0.2 in /usr/local/lib/python3.6/dist-packages (from requests[socks]>=2.11.1->tweepy>=3.7.0->konlpy) (3.0.4)\n",
            "Requirement already satisfied: certifi>=2017.4.17 in /usr/local/lib/python3.6/dist-packages (from requests[socks]>=2.11.1->tweepy>=3.7.0->konlpy) (2020.12.5)\n",
            "Requirement already satisfied: PySocks!=1.5.7,>=1.5.6; extra == \"socks\" in /usr/local/lib/python3.6/dist-packages (from requests[socks]>=2.11.1->tweepy>=3.7.0->konlpy) (1.7.1)\n",
            "Installing collected packages: colorama, tweepy, JPype1, beautifulsoup4, konlpy\n",
            "  Found existing installation: tweepy 3.6.0\n",
            "    Uninstalling tweepy-3.6.0:\n",
            "      Successfully uninstalled tweepy-3.6.0\n",
            "  Found existing installation: beautifulsoup4 4.6.3\n",
            "    Uninstalling beautifulsoup4-4.6.3:\n",
            "      Successfully uninstalled beautifulsoup4-4.6.3\n",
            "Successfully installed JPype1-1.2.0 beautifulsoup4-4.6.0 colorama-0.4.4 konlpy-0.5.2 tweepy-3.10.0\n",
            "Collecting svgling\n",
            "  Downloading https://files.pythonhosted.org/packages/19/d2/fe75c4143627391d055420cc25f3e278123b4df0cbaee61da72332cc38b0/svgling-0.3.0-py3-none-any.whl\n",
            "Collecting svgwrite\n",
            "\u001b[?25l  Downloading https://files.pythonhosted.org/packages/1c/85/1dc25b36c3ac4f3fe285d33065fc0f2ea7bdfb9209d6369e01a3e8ef6252/svgwrite-1.4-py3-none-any.whl (66kB)\n",
            "\u001b[K     |████████████████████████████████| 71kB 3.8MB/s \n",
            "\u001b[?25hInstalling collected packages: svgwrite, svgling\n",
            "Successfully installed svgling-0.3.0 svgwrite-1.4\n"
          ],
          "name": "stdout"
        }
      ]
    },
    {
      "cell_type": "code",
      "metadata": {
        "id": "1NBV7Srgn-36"
      },
      "source": [
        "from konlpy.tag import Okt\n",
        "okt = Okt()\n",
        "from konlpy.tag import Hannanum\n",
        "hannanum = Hannanum()\n",
        "from konlpy.tag import Kkma\n",
        "kkma = Kkma()\n",
        "\n",
        "from termcolor import colored\n",
        "import svgling"
      ],
      "execution_count": null,
      "outputs": []
    },
    {
      "cell_type": "code",
      "metadata": {
        "colab": {
          "base_uri": "https://localhost:8080/"
        },
        "id": "CfbMKGFPq_9A",
        "outputId": "5eb6ffc9-247d-48a5-e754-0fe91bd53413"
      },
      "source": [
        "#hangug = hannanum.pos(u'세 소년이 걸었다', ntags=22)\n",
        "#hangug = hannanum.pos(u'나는 케이크를 먹는다', ntags= 22)\n",
        "#hangug = hannanum.pos(u'모든 빠른 소년 냄새', ntags=22)\n",
        "\n",
        "hangug = hannanum.pos(u'프랑스에서 왔어요? 와!', ntags=22)\n",
        "\n",
        "\n",
        "types = {\"NC\": \"red\", \n",
        "         \"JX\": \"green\", \"JP\": \"green\", \"JC\": \"green\",\n",
        "         \"NP\": \"blue\",\n",
        "         \"PV\": \"yellow\",\n",
        "         \"PA\": \"grey\",\n",
        "         \"NN\": \"magenta\",\n",
        "         \"MM\": \"white\"\n",
        "         }\n",
        "\n",
        "\n",
        "print(colored(\"Proper Noun:  Blue\", \"blue\"))\n",
        "print(colored(\"Postposition: Green\", \"green\"))\n",
        "print(colored(\"Common Noun:  Red\", \"red\"))\n",
        "print(colored(\"Verb:         Yellow\", \"yellow\"))\n",
        "print(colored(\"Modifier:     White\", \"white\"))\n",
        "print(colored(\"Adjective:    Grey\", \"grey\"))\n",
        "print(colored(\"Numeral:      Magenta\", \"magenta\"))\n",
        "print()\n",
        "\n",
        "\n",
        "print(\"프랑스에서 왔어요? 와!\")\n",
        "\n",
        "print(hangug)\n",
        "pos = [i[1] for i in hangug]\n",
        "words = [i[0] for i in hangug]\n",
        "\n",
        "print(pos)\n",
        "i = 0\n",
        "while i < len(words):\n",
        "  if pos[i][0] == \"E\" or pos[i][0] == \"S\":\n",
        "    words[i-1] = words[i-1] + words[i]\n",
        "    words.remove(words[i])\n",
        "    pos.remove(pos[i])\n",
        "    continue\n",
        "  i += 1\n",
        "\n",
        "print(pos)\n",
        "print(words)\n",
        "\n",
        "hangug = tuple(zip(words, pos))\n",
        "print(hangug)\n",
        "\n",
        "for i in range(0,len(hangug)):\n",
        "  if pos[i] == \"PX\":\n",
        "    print(colored(words[i], \"yellow\", attrs=['bold']), end='')\n",
        "    continue\n",
        "  \n",
        "  try:\n",
        "    if types[pos[i+1]] == \"green\":\n",
        "      print(colored(words[i], types[pos[i]]), end='')\n",
        "    else:\n",
        "      print(colored(words[i], types[pos[i]]), end=' ')\n",
        "  except:  \n",
        "      print(colored(words[i], types[pos[i]]), end='')"
      ],
      "execution_count": null,
      "outputs": [
        {
          "output_type": "stream",
          "text": [
            "\u001b[34mProper Noun:  Blue\u001b[0m\n",
            "\u001b[32mPostposition: Green\u001b[0m\n",
            "\u001b[31mCommon Noun:  Red\u001b[0m\n",
            "\u001b[33mVerb:         Yellow\u001b[0m\n",
            "\u001b[37mModifier:     White\u001b[0m\n",
            "\u001b[30mAdjective:    Grey\u001b[0m\n",
            "\u001b[35mNumeral:      Magenta\u001b[0m\n",
            "\n",
            "프랑스에서 왔어요? 와!\n",
            "[('프랑스', 'NC'), ('에서', 'JC'), ('오', 'PX'), ('아', 'EP'), ('아', 'EF'), ('요', 'JX'), ('?', 'SF'), ('오', 'PV'), ('아', 'EC'), ('!', 'SF')]\n",
            "['NC', 'JC', 'PX', 'EP', 'EF', 'JX', 'SF', 'PV', 'EC', 'SF']\n",
            "['NC', 'JC', 'PX', 'JX', 'PV']\n",
            "['프랑스', '에서', '오아아', '요?', '오아!']\n",
            "(('프랑스', 'NC'), ('에서', 'JC'), ('오아아', 'PX'), ('요?', 'JX'), ('오아!', 'PV'))\n",
            "\u001b[31m프랑스\u001b[0m\u001b[32m에서\u001b[0m\u001b[1m\u001b[33m오아아\u001b[0m\u001b[32m요?\u001b[0m \u001b[33m오아!\u001b[0m"
          ],
          "name": "stdout"
        }
      ]
    },
    {
      "cell_type": "code",
      "metadata": {
        "id": "8rgRPg8WcPbS"
      },
      "source": [
        "for i in range(0,len(hangug)):\n",
        "  prevPos = hangug[i-1][1]\n",
        "\n",
        "  types['EP'] = types[prevPos]\n",
        "  types['EC'] = types[prevPos]\n",
        "  types['ET'] = types[prevPos]\n",
        "  types['EF'] = types[prevPos]\n",
        "  \n",
        "  pos = hangug[i][1]\n",
        "  #nextPos = hangug[i+1][1]\n",
        "  #print(pos, end=' ')\n",
        "  if types[pos] == \"green\" and i != len(hangug)-1:\n",
        "    print(colored(hangug[i][0], types[pos]), end=' ')\n",
        "\n",
        "  elif types[pos] == \"magenta\":\n",
        "    print(colored(hangug[i][0], types[pos]), end=' ')\n",
        "\n",
        "  elif types[pos] == \"white\":\n",
        "    print(colored(hangug[i][0], types[pos]), end=' ')\n",
        "\n",
        "  else:\n",
        "    print(colored(hangug[i][0], types[pos]), end='')"
      ],
      "execution_count": null,
      "outputs": []
    },
    {
      "cell_type": "code",
      "metadata": {
        "colab": {
          "base_uri": "https://localhost:8080/"
        },
        "id": "FR8UaZLW_CGI",
        "outputId": "b44d9c8d-56c9-4554-b24a-9a78c5c2402a"
      },
      "source": [
        "import nltk\n",
        "from nltk import Tree\n",
        "\n",
        "\n",
        "# POS tag a sentence\n",
        "sentence = u'가게에 갈 게요. 내 삼촌은 치즈를 팔았다.'\n",
        "words = Hannanum().pos(sentence)\n",
        "for word in words:\n",
        "  print(word)\n",
        "\n",
        "# Define a chunk grammar, or chunking rules, then chunk\n",
        "grammar = \"\"\"\n",
        "NP: {<N.*><J.*>?<E.*>?}\n",
        "VP: {<P.*><E.*>?}   \n",
        "          \n",
        "\"\"\"\n",
        "parser = nltk.RegexpParser(grammar)\n",
        "chunks = parser.parse(words)\n",
        "print(\"# Print whole tree\")\n",
        "print(chunks.pprint())\n",
        "Tree.fromstring(str(chunks)).pretty_print()\n",
        "\n"
      ],
      "execution_count": null,
      "outputs": [
        {
          "output_type": "stream",
          "text": [
            "('가게', 'N')\n",
            "('에', 'J')\n",
            "('가', 'P')\n",
            "('ㄹ', 'E')\n",
            "('게요', 'N')\n",
            "('.', 'S')\n",
            "('내', 'N')\n",
            "('삼촌', 'N')\n",
            "('은', 'J')\n",
            "('치즈', 'N')\n",
            "('를', 'J')\n",
            "('팔', 'P')\n",
            "('아다', 'E')\n",
            "('.', 'S')\n",
            "# Print whole tree\n",
            "(S\n",
            "  (NP 가게/N 에/J)\n",
            "  (VP 가/P ㄹ/E)\n",
            "  (NP 게요/N)\n",
            "  ./S\n",
            "  (NP 내/N)\n",
            "  (NP 삼촌/N 은/J)\n",
            "  (NP 치즈/N 를/J)\n",
            "  (VP 팔/P 아다/E)\n",
            "  ./S)\n",
            "None\n",
            "                                  S                                             \n",
            "  ________________________________|______________________________________        \n",
            " |   |        NP          VP      NP   NP       NP           NP          VP     \n",
            " |   |    ____|___     ___|___    |    |    ____|___     ____|___     ___|___    \n",
            "./S ./S 가게/N     에/J 가/P     ㄹ/E 게요/N 내/N 삼촌/N     은/J 치즈/N     를/J 팔/P     아다/E\n",
            "\n"
          ],
          "name": "stdout"
        }
      ]
    },
    {
      "cell_type": "code",
      "metadata": {
        "colab": {
          "base_uri": "https://localhost:8080/",
          "height": 359
        },
        "id": "93oZXHnPKlGy",
        "outputId": "e55151f0-ad48-4c89-a1f0-6c1aaa3aa8b5"
      },
      "source": [
        "import nltk\n",
        "svgling.disable_nltk_png()\n",
        "\n",
        "print(chunks)\n",
        "svgling.draw_tree(chunks)"
      ],
      "execution_count": null,
      "outputs": [
        {
          "output_type": "stream",
          "text": [
            "(S\n",
            "  (NP 가게/N 에/J)\n",
            "  (VP 가/P ㄹ/E)\n",
            "  (NP 게요/N)\n",
            "  ./S\n",
            "  (NP 내/N)\n",
            "  (NP 삼촌/N 은/J)\n",
            "  (NP 치즈/N 를/J)\n",
            "  (VP 팔/P 아다/E)\n",
            "  ./S)\n"
          ],
          "name": "stdout"
        },
        {
          "output_type": "execute_result",
          "data": {
            "text/plain": [
              "TreeLayout(Tree('S', [Tree('NP', [('가게', 'N'), ('에', 'J')]), Tree('VP', [('가', 'P'), ('ㄹ', 'E')]), Tree('NP', [('게요', 'N')]), ('.', 'S'), Tree('NP', [('내', 'N')]), Tree('NP', [('삼촌', 'N'), ('은', 'J')]), Tree('NP', [('치즈', 'N'), ('를', 'J')]), Tree('VP', [('팔', 'P'), ('아다', 'E')]), ('.', 'S')]))"
            ],
            "image/svg+xml": "<svg baseProfile=\"full\" height=\"168px\" preserveAspectRatio=\"xMidYMid meet\" style=\"font-family: times, serif; font-weight:normal; font-style: normal; font-size: 16px;\" version=\"1.1\" viewBox=\"0,0,384.0,168.0\" width=\"384px\" xmlns=\"http://www.w3.org/2000/svg\" xmlns:ev=\"http://www.w3.org/2001/xml-events\" xmlns:xlink=\"http://www.w3.org/1999/xlink\"><defs /><svg width=\"100%\" x=\"0\" y=\"0em\"><defs /><text text-anchor=\"middle\" x=\"50%\" y=\"1em\">S</text></svg><svg width=\"14.5833%\" x=\"0%\" y=\"3em\"><defs /><svg width=\"100%\" x=\"0\" y=\"0em\"><defs /><text text-anchor=\"middle\" x=\"50%\" y=\"1em\">NP</text></svg><svg width=\"57.1429%\" x=\"0%\" y=\"3em\"><defs /><svg width=\"100%\" x=\"0\" y=\"0em\"><defs /><text text-anchor=\"middle\" x=\"50%\" y=\"1em\">가게</text></svg><svg width=\"100%\" x=\"0%\" y=\"3em\"><defs /><svg width=\"100%\" x=\"0\" y=\"0em\"><defs /><text text-anchor=\"middle\" x=\"50%\" y=\"1em\">N</text></svg></svg><line stroke=\"black\" x1=\"50%\" x2=\"50%\" y1=\"1.2em\" y2=\"3em\" /></svg><line stroke=\"black\" x1=\"50%\" x2=\"28.5714%\" y1=\"1.2em\" y2=\"3em\" /><svg width=\"42.8571%\" x=\"57.1429%\" y=\"3em\"><defs /><svg width=\"100%\" x=\"0\" y=\"0em\"><defs /><text text-anchor=\"middle\" x=\"50%\" y=\"1em\">에</text></svg><svg width=\"100%\" x=\"0%\" y=\"3em\"><defs /><svg width=\"100%\" x=\"0\" y=\"0em\"><defs /><text text-anchor=\"middle\" x=\"50%\" y=\"1em\">J</text></svg></svg><line stroke=\"black\" x1=\"50%\" x2=\"50%\" y1=\"1.2em\" y2=\"3em\" /></svg><line stroke=\"black\" x1=\"50%\" x2=\"78.5714%\" y1=\"1.2em\" y2=\"3em\" /></svg><line stroke=\"black\" x1=\"50%\" x2=\"7.29167%\" y1=\"1.2em\" y2=\"3em\" /><svg width=\"12.5%\" x=\"14.5833%\" y=\"3em\"><defs /><svg width=\"100%\" x=\"0\" y=\"0em\"><defs /><text text-anchor=\"middle\" x=\"50%\" y=\"1em\">VP</text></svg><svg width=\"50%\" x=\"0%\" y=\"3em\"><defs /><svg width=\"100%\" x=\"0\" y=\"0em\"><defs /><text text-anchor=\"middle\" x=\"50%\" y=\"1em\">가</text></svg><svg width=\"100%\" x=\"0%\" y=\"3em\"><defs /><svg width=\"100%\" x=\"0\" y=\"0em\"><defs /><text text-anchor=\"middle\" x=\"50%\" y=\"1em\">P</text></svg></svg><line stroke=\"black\" x1=\"50%\" x2=\"50%\" y1=\"1.2em\" y2=\"3em\" /></svg><line stroke=\"black\" x1=\"50%\" x2=\"25%\" y1=\"1.2em\" y2=\"3em\" /><svg width=\"50%\" x=\"50%\" y=\"3em\"><defs /><svg width=\"100%\" x=\"0\" y=\"0em\"><defs /><text text-anchor=\"middle\" x=\"50%\" y=\"1em\">ㄹ</text></svg><svg width=\"100%\" x=\"0%\" y=\"3em\"><defs /><svg width=\"100%\" x=\"0\" y=\"0em\"><defs /><text text-anchor=\"middle\" x=\"50%\" y=\"1em\">E</text></svg></svg><line stroke=\"black\" x1=\"50%\" x2=\"50%\" y1=\"1.2em\" y2=\"3em\" /></svg><line stroke=\"black\" x1=\"50%\" x2=\"75%\" y1=\"1.2em\" y2=\"3em\" /></svg><line stroke=\"black\" x1=\"50%\" x2=\"20.8333%\" y1=\"1.2em\" y2=\"3em\" /><svg width=\"8.33333%\" x=\"27.0833%\" y=\"3em\"><defs /><svg width=\"100%\" x=\"0\" y=\"0em\"><defs /><text text-anchor=\"middle\" x=\"50%\" y=\"1em\">NP</text></svg><svg width=\"100%\" x=\"0%\" y=\"3em\"><defs /><svg width=\"100%\" x=\"0\" y=\"0em\"><defs /><text text-anchor=\"middle\" x=\"50%\" y=\"1em\">게요</text></svg><svg width=\"100%\" x=\"0%\" y=\"3em\"><defs /><svg width=\"100%\" x=\"0\" y=\"0em\"><defs /><text text-anchor=\"middle\" x=\"50%\" y=\"1em\">N</text></svg></svg><line stroke=\"black\" x1=\"50%\" x2=\"50%\" y1=\"1.2em\" y2=\"3em\" /></svg><line stroke=\"black\" x1=\"50%\" x2=\"50%\" y1=\"1.2em\" y2=\"3em\" /></svg><line stroke=\"black\" x1=\"50%\" x2=\"31.25%\" y1=\"1.2em\" y2=\"3em\" /><svg width=\"6.25%\" x=\"35.4167%\" y=\"3em\"><defs /><svg width=\"100%\" x=\"0\" y=\"0em\"><defs /><text text-anchor=\"middle\" x=\"50%\" y=\"1em\">.</text></svg><svg width=\"100%\" x=\"0%\" y=\"3em\"><defs /><svg width=\"100%\" x=\"0\" y=\"0em\"><defs /><text text-anchor=\"middle\" x=\"50%\" y=\"1em\">S</text></svg></svg><line stroke=\"black\" x1=\"50%\" x2=\"50%\" y1=\"1.2em\" y2=\"3em\" /></svg><line stroke=\"black\" x1=\"50%\" x2=\"38.5417%\" y1=\"1.2em\" y2=\"3em\" /><svg width=\"8.33333%\" x=\"41.6667%\" y=\"3em\"><defs /><svg width=\"100%\" x=\"0\" y=\"0em\"><defs /><text text-anchor=\"middle\" x=\"50%\" y=\"1em\">NP</text></svg><svg width=\"100%\" x=\"0%\" y=\"3em\"><defs /><svg width=\"100%\" x=\"0\" y=\"0em\"><defs /><text text-anchor=\"middle\" x=\"50%\" y=\"1em\">내</text></svg><svg width=\"100%\" x=\"0%\" y=\"3em\"><defs /><svg width=\"100%\" x=\"0\" y=\"0em\"><defs /><text text-anchor=\"middle\" x=\"50%\" y=\"1em\">N</text></svg></svg><line stroke=\"black\" x1=\"50%\" x2=\"50%\" y1=\"1.2em\" y2=\"3em\" /></svg><line stroke=\"black\" x1=\"50%\" x2=\"50%\" y1=\"1.2em\" y2=\"3em\" /></svg><line stroke=\"black\" x1=\"50%\" x2=\"45.8333%\" y1=\"1.2em\" y2=\"3em\" /><svg width=\"14.5833%\" x=\"50%\" y=\"3em\"><defs /><svg width=\"100%\" x=\"0\" y=\"0em\"><defs /><text text-anchor=\"middle\" x=\"50%\" y=\"1em\">NP</text></svg><svg width=\"57.1429%\" x=\"0%\" y=\"3em\"><defs /><svg width=\"100%\" x=\"0\" y=\"0em\"><defs /><text text-anchor=\"middle\" x=\"50%\" y=\"1em\">삼촌</text></svg><svg width=\"100%\" x=\"0%\" y=\"3em\"><defs /><svg width=\"100%\" x=\"0\" y=\"0em\"><defs /><text text-anchor=\"middle\" x=\"50%\" y=\"1em\">N</text></svg></svg><line stroke=\"black\" x1=\"50%\" x2=\"50%\" y1=\"1.2em\" y2=\"3em\" /></svg><line stroke=\"black\" x1=\"50%\" x2=\"28.5714%\" y1=\"1.2em\" y2=\"3em\" /><svg width=\"42.8571%\" x=\"57.1429%\" y=\"3em\"><defs /><svg width=\"100%\" x=\"0\" y=\"0em\"><defs /><text text-anchor=\"middle\" x=\"50%\" y=\"1em\">은</text></svg><svg width=\"100%\" x=\"0%\" y=\"3em\"><defs /><svg width=\"100%\" x=\"0\" y=\"0em\"><defs /><text text-anchor=\"middle\" x=\"50%\" y=\"1em\">J</text></svg></svg><line stroke=\"black\" x1=\"50%\" x2=\"50%\" y1=\"1.2em\" y2=\"3em\" /></svg><line stroke=\"black\" x1=\"50%\" x2=\"78.5714%\" y1=\"1.2em\" y2=\"3em\" /></svg><line stroke=\"black\" x1=\"50%\" x2=\"57.2917%\" y1=\"1.2em\" y2=\"3em\" /><svg width=\"14.5833%\" x=\"64.5833%\" y=\"3em\"><defs /><svg width=\"100%\" x=\"0\" y=\"0em\"><defs /><text text-anchor=\"middle\" x=\"50%\" y=\"1em\">NP</text></svg><svg width=\"57.1429%\" x=\"0%\" y=\"3em\"><defs /><svg width=\"100%\" x=\"0\" y=\"0em\"><defs /><text text-anchor=\"middle\" x=\"50%\" y=\"1em\">치즈</text></svg><svg width=\"100%\" x=\"0%\" y=\"3em\"><defs /><svg width=\"100%\" x=\"0\" y=\"0em\"><defs /><text text-anchor=\"middle\" x=\"50%\" y=\"1em\">N</text></svg></svg><line stroke=\"black\" x1=\"50%\" x2=\"50%\" y1=\"1.2em\" y2=\"3em\" /></svg><line stroke=\"black\" x1=\"50%\" x2=\"28.5714%\" y1=\"1.2em\" y2=\"3em\" /><svg width=\"42.8571%\" x=\"57.1429%\" y=\"3em\"><defs /><svg width=\"100%\" x=\"0\" y=\"0em\"><defs /><text text-anchor=\"middle\" x=\"50%\" y=\"1em\">를</text></svg><svg width=\"100%\" x=\"0%\" y=\"3em\"><defs /><svg width=\"100%\" x=\"0\" y=\"0em\"><defs /><text text-anchor=\"middle\" x=\"50%\" y=\"1em\">J</text></svg></svg><line stroke=\"black\" x1=\"50%\" x2=\"50%\" y1=\"1.2em\" y2=\"3em\" /></svg><line stroke=\"black\" x1=\"50%\" x2=\"78.5714%\" y1=\"1.2em\" y2=\"3em\" /></svg><line stroke=\"black\" x1=\"50%\" x2=\"71.875%\" y1=\"1.2em\" y2=\"3em\" /><svg width=\"14.5833%\" x=\"79.1667%\" y=\"3em\"><defs /><svg width=\"100%\" x=\"0\" y=\"0em\"><defs /><text text-anchor=\"middle\" x=\"50%\" y=\"1em\">VP</text></svg><svg width=\"42.8571%\" x=\"0%\" y=\"3em\"><defs /><svg width=\"100%\" x=\"0\" y=\"0em\"><defs /><text text-anchor=\"middle\" x=\"50%\" y=\"1em\">팔</text></svg><svg width=\"100%\" x=\"0%\" y=\"3em\"><defs /><svg width=\"100%\" x=\"0\" y=\"0em\"><defs /><text text-anchor=\"middle\" x=\"50%\" y=\"1em\">P</text></svg></svg><line stroke=\"black\" x1=\"50%\" x2=\"50%\" y1=\"1.2em\" y2=\"3em\" /></svg><line stroke=\"black\" x1=\"50%\" x2=\"21.4286%\" y1=\"1.2em\" y2=\"3em\" /><svg width=\"57.1429%\" x=\"42.8571%\" y=\"3em\"><defs /><svg width=\"100%\" x=\"0\" y=\"0em\"><defs /><text text-anchor=\"middle\" x=\"50%\" y=\"1em\">아다</text></svg><svg width=\"100%\" x=\"0%\" y=\"3em\"><defs /><svg width=\"100%\" x=\"0\" y=\"0em\"><defs /><text text-anchor=\"middle\" x=\"50%\" y=\"1em\">E</text></svg></svg><line stroke=\"black\" x1=\"50%\" x2=\"50%\" y1=\"1.2em\" y2=\"3em\" /></svg><line stroke=\"black\" x1=\"50%\" x2=\"71.4286%\" y1=\"1.2em\" y2=\"3em\" /></svg><line stroke=\"black\" x1=\"50%\" x2=\"86.4583%\" y1=\"1.2em\" y2=\"3em\" /><svg width=\"6.25%\" x=\"93.75%\" y=\"3em\"><defs /><svg width=\"100%\" x=\"0\" y=\"0em\"><defs /><text text-anchor=\"middle\" x=\"50%\" y=\"1em\">.</text></svg><svg width=\"100%\" x=\"0%\" y=\"3em\"><defs /><svg width=\"100%\" x=\"0\" y=\"0em\"><defs /><text text-anchor=\"middle\" x=\"50%\" y=\"1em\">S</text></svg></svg><line stroke=\"black\" x1=\"50%\" x2=\"50%\" y1=\"1.2em\" y2=\"3em\" /></svg><line stroke=\"black\" x1=\"50%\" x2=\"96.875%\" y1=\"1.2em\" y2=\"3em\" /></svg>"
          },
          "metadata": {
            "tags": []
          },
          "execution_count": 130
        }
      ]
    }
  ]
}